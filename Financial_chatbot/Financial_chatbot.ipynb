{
 "cells": [
  {
   "cell_type": "code",
   "execution_count": 1,
   "id": "1c2190da",
   "metadata": {},
   "outputs": [],
   "source": [
    "import pandas as pd \n",
    "import yfinance as yf\n",
    "from nltk.corpus import stopwords \n",
    "from nltk import download"
   ]
  },
  {
   "cell_type": "code",
   "execution_count": 2,
   "id": "02d98c86",
   "metadata": {
    "collapsed": true
   },
   "outputs": [
    {
     "name": "stderr",
     "output_type": "stream",
     "text": [
      "C:\\Users\\nares\\anaconda3\\lib\\site-packages\\cupy\\_environment.py:213: UserWarning: CUDA path could not be detected. Set CUDA_PATH environment variable if CuPy fails to load.\n",
      "  warnings.warn(\n",
      "C:\\Users\\nares\\anaconda3\\lib\\site-packages\\cupy\\_environment.py:213: UserWarning: CUDA path could not be detected. Set CUDA_PATH environment variable if CuPy fails to load.\n",
      "  warnings.warn(\n",
      "C:\\Users\\nares\\anaconda3\\lib\\site-packages\\cupy\\_environment.py:213: UserWarning: CUDA path could not be detected. Set CUDA_PATH environment variable if CuPy fails to load.\n",
      "  warnings.warn(\n",
      "C:\\Users\\nares\\anaconda3\\lib\\site-packages\\cupy\\_environment.py:213: UserWarning: CUDA path could not be detected. Set CUDA_PATH environment variable if CuPy fails to load.\n",
      "  warnings.warn(\n",
      "C:\\Users\\nares\\anaconda3\\lib\\site-packages\\spacy\\util.py:887: UserWarning: [W095] Model 'en_core_web_sm' (3.4.1) was trained with spaCy v3.4 and may not be 100% compatible with the current version (3.5.4). If you see errors or degraded performance, download a newer compatible model or retrain your custom model with the current spaCy version. For more details and available updates, run: python -m spacy validate\n",
      "  warnings.warn(warn_msg)\n"
     ]
    }
   ],
   "source": [
    "import spacy\n",
    "nlp=spacy.load(\"en_core_web_sm\")"
   ]
  },
  {
   "cell_type": "code",
   "execution_count": 3,
   "id": "f9dfd755",
   "metadata": {},
   "outputs": [],
   "source": [
    "import gensim.downloader as api\n",
    "model = api.load('word2vec-google-news-300')"
   ]
  },
  {
   "cell_type": "code",
   "execution_count": 88,
   "id": "ccd34d3b",
   "metadata": {},
   "outputs": [],
   "source": [
    "tickers=pd.read_excel(r\"C:/Users/nares/Documents/chatbot/Ticker.xlsx\")\n",
    "data=pd.read_csv(r\"C:/Users/nares/Documents/chatbot/questions.csv\")\n",
    "services=pd.read_csv(r\"C:/Users/nares/Documents/chatbot/Services.csv\")"
   ]
  },
  {
   "cell_type": "code",
   "execution_count": 58,
   "id": "b4885f1a",
   "metadata": {},
   "outputs": [],
   "source": [
    "services_list=['balance sheet','dividend','capital gains','cash flow','financial statement','income statement'\n",
    "               ,'information','info','mutual fund holders','isin','ticker','holders','splits','history'\n",
    "               ,'share price','stock price']"
   ]
  },
  {
   "cell_type": "code",
   "execution_count": 53,
   "id": "1cfbe0f9",
   "metadata": {},
   "outputs": [],
   "source": [
    "def identify_service(question):\n",
    "    for i,service in enumerate(services_list):\n",
    "        if service.lower() in question.lower():\n",
    "            identify_company(question,services[services['details']==service]['code'].values[0])\n",
    "            break\n",
    "        elif i==len(services_list)D:\n",
    "            print(\"Bot :we are not supporting this service,kindly try again\")"
   ]
  },
  {
   "cell_type": "code",
   "execution_count": 12,
   "id": "d502dad9",
   "metadata": {},
   "outputs": [],
   "source": [
    "def identify_company(question,req_service):\n",
    "    companyname=[]\n",
    "    distance=[]\n",
    "    doc=nlp(question)\n",
    "    companyname=[entity.text for entity in doc.ents if entity.label_==\"ORG\"]\n",
    "    if len(companyname)!=0 and type(companyname[0])==str:\n",
    "        companyname=companyname[0]\n",
    "        if companyname.lower() in tickers['code'].values:\n",
    "            ticker=tickers[tickers['code']==companyname.lower()]['symbol'].values[0]\n",
    "            financial_data=financial_detail(req_service,ticker)\n",
    "            print(financial_data)\n",
    "        else:\n",
    "            for i in tickers['company_name']:\n",
    "                distance.append(model.wmdistance(companyname.lower(),i))\n",
    "            tickers['dist']=distance\n",
    "            tickers.sort_values(by=['dist'],inplace=True,ignore_index=True)\n",
    "            if tickers['dist'][0]>=0.5:\n",
    "                print(\"Bot :sorry,we could not find this company,we provide support only for NSE50 listed companies\")\n",
    "            else:\n",
    "                ticker=tickers['symbol'][0]\n",
    "                financial_detail(req_service,ticker)\n",
    "    else:\n",
    "        print(\"could you please provide company name(caps) along with required report name ? \")"
   ]
  },
  {
   "cell_type": "code",
   "execution_count": 86,
   "id": "26a10c65",
   "metadata": {},
   "outputs": [],
   "source": [
    "def financial_detail(req_service,ticker):\n",
    "    company=yf.Ticker(ticker)\n",
    "    if req_service.startswith('get_'):\n",
    "        financial_data_method = getattr(company, req_service)\n",
    "        financial_data = financial_data_method()\n",
    "        print(f\"Bot: Please find the below\")\n",
    "        return financial_data\n",
    "    elif req_service.startswith('current'):\n",
    "        financial_data_method = getattr(company,'info')\n",
    "        financial_data = financial_data_method['currentPrice']\n",
    "        return (f\"Bot: latest share price is {financial_data}\")\n",
    "    else:\n",
    "        financial_data=getattr(company, req_service)\n",
    "        print(f\"Bot : please find the below\")\n",
    "        return financial_data"
   ]
  },
  {
   "cell_type": "code",
   "execution_count": 8,
   "id": "29ac07e9",
   "metadata": {},
   "outputs": [],
   "source": [
    "def financial_chatbot():\n",
    "    import warnings\n",
    "    warnings.filterwarnings('ignore')\n",
    "    print(\"*****Type stop to end the chat*****\")\n",
    "    question=input('You : ')\n",
    "    while question.lower()!=\"stop\":\n",
    "        if question==\"bye\":\n",
    "            print('Bot : Bye')\n",
    "            break\n",
    "        dist=[]\n",
    "        for j in data.Question:\n",
    "            dist.append(model.wmdistance(question.lower(),j))\n",
    "        data['dist']=dist\n",
    "        data.sort_values(by=['dist'],inplace=True,ignore_index=True)\n",
    "        if  data['dist'][0]>=0.5:\n",
    "            print(\"Bot :sorry,could you please re-phrase your question or, \\n     please try someother question\")\n",
    "        elif data['Answer'][0]==\"Bye\":\n",
    "            print('Bot : Bye')\n",
    "            break\n",
    "        elif data['Answer'][0]==\"Call_function\":\n",
    "            identify_service(question)\n",
    "        else:\n",
    "            print('Bot :',data['Answer'][0])\n",
    "        question=input('You : ')"
   ]
  },
  {
   "cell_type": "code",
   "execution_count": null,
   "id": "5a6c7ff7",
   "metadata": {},
   "outputs": [
    {
     "name": "stdout",
     "output_type": "stream",
     "text": [
      "*****Type stop to end the chat*****\n",
      "You : hI\n",
      "Bot : Hello\n",
      "You : how are you\n",
      "Bot : I am doing good, and you?\n",
      "You : yes i am good\n",
      "Bot : How can I help you\n",
      "You : how can you help me\n",
      "Bot : I am Financial Chatbot created to provide stock market details of NSE listed companies.\n",
      "You : can you provide the share price of HCL\n",
      "Bot: latest share price is 1234.8\n",
      "You : What is the isin of ITC\n",
      "Bot: Please find the below\n",
      "SG1C67001091\n",
      "You : Can you provide the dividend list of ITC\n",
      "Bot : please find the below\n",
      "Date\n",
      "1996-07-08 00:00:00+05:30     0.055556\n",
      "1997-08-04 00:00:00+05:30     0.022222\n",
      "1998-06-22 00:00:00+05:30     0.100000\n",
      "1999-06-24 00:00:00+05:30     0.122222\n",
      "2000-06-27 00:00:00+05:30     0.166667\n",
      "2001-07-03 00:00:00+05:30     0.222222\n",
      "2002-07-12 00:00:00+05:30     0.300000\n",
      "2003-07-14 00:00:00+05:30     0.333333\n",
      "2004-07-19 00:00:00+05:30     0.444444\n",
      "2005-07-18 00:00:00+05:30     0.688889\n",
      "2006-07-10 00:00:00+05:30     0.883333\n",
      "2007-07-16 00:00:00+05:30     1.033333\n",
      "2008-07-16 00:00:00+05:30     1.166667\n",
      "2009-07-13 00:00:00+05:30     1.233333\n",
      "2010-06-09 00:00:00+05:30     1.833333\n",
      "2011-06-10 00:00:00+05:30     1.100000\n",
      "2012-06-11 00:00:00+05:30     3.000000\n",
      "2013-05-31 00:00:00+05:30     3.500000\n",
      "2014-06-03 00:00:00+05:30     4.000000\n",
      "2015-06-03 00:00:00+05:30     4.166667\n",
      "2016-05-30 00:00:00+05:30     1.333333\n",
      "2017-06-05 00:00:00+05:30     4.750000\n",
      "2018-05-25 00:00:00+05:30     5.150000\n",
      "2019-05-22 00:00:00+05:30     5.750000\n",
      "2020-07-06 00:00:00+05:30    10.150000\n",
      "2021-02-22 00:00:00+05:30     5.000000\n",
      "2021-06-10 00:00:00+05:30     5.750000\n",
      "2022-02-14 00:00:00+05:30     5.250000\n",
      "2022-05-26 00:00:00+05:30     6.250000\n",
      "2023-02-15 00:00:00+05:30     6.000000\n",
      "2023-05-30 00:00:00+05:30     2.750000\n",
      "Name: Dividends, dtype: float64\n"
     ]
    }
   ],
   "source": [
    "financial_chatbot()"
   ]
  },
  {
   "cell_type": "code",
   "execution_count": null,
   "id": "6d8842a3",
   "metadata": {},
   "outputs": [],
   "source": []
  }
 ],
 "metadata": {
  "kernelspec": {
   "display_name": "Python 3 (ipykernel)",
   "language": "python",
   "name": "python3"
  },
  "language_info": {
   "codemirror_mode": {
    "name": "ipython",
    "version": 3
   },
   "file_extension": ".py",
   "mimetype": "text/x-python",
   "name": "python",
   "nbconvert_exporter": "python",
   "pygments_lexer": "ipython3",
   "version": "3.9.12"
  },
  "toc": {
   "base_numbering": 1,
   "nav_menu": {},
   "number_sections": true,
   "sideBar": true,
   "skip_h1_title": false,
   "title_cell": "Table of Contents",
   "title_sidebar": "Contents",
   "toc_cell": false,
   "toc_position": {},
   "toc_section_display": true,
   "toc_window_display": false
  },
  "varInspector": {
   "cols": {
    "lenName": 16,
    "lenType": 16,
    "lenVar": 40
   },
   "kernels_config": {
    "python": {
     "delete_cmd_postfix": "",
     "delete_cmd_prefix": "del ",
     "library": "var_list.py",
     "varRefreshCmd": "print(var_dic_list())"
    },
    "r": {
     "delete_cmd_postfix": ") ",
     "delete_cmd_prefix": "rm(",
     "library": "var_list.r",
     "varRefreshCmd": "cat(var_dic_list()) "
    }
   },
   "types_to_exclude": [
    "module",
    "function",
    "builtin_function_or_method",
    "instance",
    "_Feature"
   ],
   "window_display": false
  }
 },
 "nbformat": 4,
 "nbformat_minor": 5
}
